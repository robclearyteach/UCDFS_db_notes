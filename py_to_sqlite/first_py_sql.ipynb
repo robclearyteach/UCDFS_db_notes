{
 "cells": [
  {
   "cell_type": "code",
   "execution_count": 2,
   "metadata": {},
   "outputs": [
    {
     "name": "stdout",
     "output_type": "stream",
     "text": [
      "2024-05-02 19:56:49,637 INFO sqlalchemy.engine.Engine BEGIN (implicit)\n",
      "2024-05-02 19:56:49,638 INFO sqlalchemy.engine.Engine SELECT * FROM facility\n",
      "2024-05-02 19:56:49,640 INFO sqlalchemy.engine.Engine [generated in 0.00358s] ()\n",
      "2024-05-02 19:56:49,644 INFO sqlalchemy.engine.Engine ROLLBACK\n",
      "[(0, 'Tennis Court1'), (1, 'Tennis Court2')]\n"
     ]
    }
   ],
   "source": [
    "from sqlalchemy import create_engine, text\n",
    "\n",
    "connection_string = \"sqlite:///test.db\"\n",
    "engine = create_engine(connection_string, echo=True)\n",
    "\n",
    "with engine.connect() as conn:\n",
    "    result = conn.execute( text(\"SELECT * FROM facility\") )\n",
    "    rows = result.all()\n",
    "\n",
    "print(rows)"
   ]
  }
 ],
 "metadata": {
  "kernelspec": {
   "display_name": ".venv",
   "language": "python",
   "name": "python3"
  },
  "language_info": {
   "codemirror_mode": {
    "name": "ipython",
    "version": 3
   },
   "file_extension": ".py",
   "mimetype": "text/x-python",
   "name": "python",
   "nbconvert_exporter": "python",
   "pygments_lexer": "ipython3",
   "version": "3.11.4"
  }
 },
 "nbformat": 4,
 "nbformat_minor": 2
}
