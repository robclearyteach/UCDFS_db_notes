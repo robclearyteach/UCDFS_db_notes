{
 "cells": [
  {
   "cell_type": "code",
   "execution_count": null,
   "metadata": {},
   "outputs": [],
   "source": [
    "# https://www.psycopg.org/docs/usage.html \n",
    "# https://www.psycopg.org/docs/module.html#psycopg2.connect"
   ]
  },
  {
   "cell_type": "code",
   "execution_count": null,
   "metadata": {},
   "outputs": [],
   "source": [
    "import psycopg2\n",
    "# # NEVER PUT a password in the code:/connection-string  used below: just for simple test/learning\n",
    "conn = psycopg2.connect(dbname=\"dvdrental\", user=\"testuser\", password=\"testuser123\")\n",
    "\n",
    "print(conn)\n",
    "conn.close()"
   ]
  },
  {
   "cell_type": "code",
   "execution_count": null,
   "metadata": {},
   "outputs": [],
   "source": [
    "import psycopg2\n",
    "connection_string = \"dbname=dvdrental user=testuser password=testuser123\"\n",
    "conn = psycopg2.connect(connection_string)\n",
    "\n",
    "print(conn)\n",
    "conn.close()"
   ]
  },
  {
   "cell_type": "code",
   "execution_count": null,
   "metadata": {},
   "outputs": [],
   "source": [
    "## ATTEMPT CONNECT TO dbname=\"postgres\"\n",
    "## SEE fails IF USER doesn't have priviliges\n",
    "import psycopg2\n",
    "conn = psycopg2.connect(dbname=\"postgres\", user=\"testuser\", password=\"testuser123\")\n",
    "\n",
    "try:\n",
    "    curr = conn.cursor()\n",
    "    curr.execute(\"SELECT * FROM booking;\")\n",
    "finally:\n",
    "    conn.close() # don't forget to close"
   ]
  },
  {
   "cell_type": "code",
   "execution_count": null,
   "metadata": {},
   "outputs": [],
   "source": [
    "## A SELECT *\n",
    "import psycopg2\n",
    "conn = psycopg2.connect(dbname=\"dvdrental\", user=\"testuser\", password=\"testuser123\")\n",
    "\n",
    "curr = conn.cursor()\n",
    "curr.execute(\"SELECT * FROM staff;\")\n",
    "result = curr.fetchall()\n",
    "for record in result:\n",
    "    print(record)\n",
    "\n",
    "curr.close()\n",
    "conn.close() # don't forget to close"
   ]
  },
  {
   "cell_type": "code",
   "execution_count": null,
   "metadata": {},
   "outputs": [],
   "source": [
    "## Putting the SQL into a String\n",
    "import psycopg2\n",
    "conn = psycopg2.connect(dbname=\"dvdrental\", user=\"testuser\", password=\"testuser123\")\n",
    "\n",
    "SQL = \"SELECT * FROM staff;\"\n",
    "print(SQL)  # print SQL string\n",
    "\n",
    "curr = conn.cursor()\n",
    "curr.execute(SQL)\n",
    "result = curr.fetchall()  #experiment: fetchone()\n",
    "for record in result:\n",
    "    print(record)\n",
    "    \n",
    "curr.close()\n",
    "conn.close() # don't forget to close"
   ]
  },
  {
   "cell_type": "code",
   "execution_count": null,
   "metadata": {},
   "outputs": [],
   "source": [
    "## Building an SQL String with user input\n",
    "## using (e.g.) -> input() \n",
    "import psycopg2\n",
    "conn = psycopg2.connect(dbname=\"dvdrental\", user=\"testuser\", password=\"testuser123\")\n",
    "\n",
    "SQL = f\"SELECT * FROM {input('Enter table name: ')};\"\n",
    "print(SQL)  # print SQL string\n",
    "\n",
    "curr = conn.cursor()\n",
    "curr.execute(SQL)\n",
    "result = curr.fetchall()\n",
    "for record in result:\n",
    "    print(record)\n",
    "    \n",
    "    \n",
    "curr.close()\n",
    "conn.close() # don't forget to close"
   ]
  },
  {
   "cell_type": "code",
   "execution_count": null,
   "metadata": {},
   "outputs": [],
   "source": [
    "## DANGER!! SQL INJECTION... CARE NEEDED\n",
    "## Typically NEVER build an SQL String like this...\n",
    "import psycopg2\n",
    "conn = psycopg2.connect(dbname=\"dvdrental\", user=\"testuser\", password=\"testuser123\")\n",
    "\n",
    "SQL = f\"SELECT * FROM Staff WHERE first_name = '{input('Enter first_name: ')}';\"\n",
    "\n",
    "# DANGER ABOVE: SQL INJECTION: consider...\n",
    "# SQL = f\"SELECT * FROM Staff WHERE first_name = 'Mike' OR TRUE;\"\n",
    "\n",
    "print(SQL)  # print SQL string\n",
    "curr = conn.cursor()\n",
    "curr.execute(SQL)\n",
    "result = curr.fetchall()\n",
    "print(result)\n",
    "    \n",
    "curr.close()\n",
    "conn.close() # don't forget to close"
   ]
  },
  {
   "cell_type": "code",
   "execution_count": null,
   "metadata": {},
   "outputs": [],
   "source": [
    "## USE SQL parameters to prevent SQL INJECTION\n",
    "## To prevent SQL injection attacks: parameterized queries\n",
    "## (prepared statements)\n",
    "import psycopg2\n",
    "conn = psycopg2.connect(dbname=\"dvdrental\", user=\"testuser\", password=\"testuser123\")\n",
    "\n",
    "# Get user input\n",
    "first_name = input(\"Enter first_name: \")\n",
    "\n",
    "# Build the SQL query string with a placeholder for the parameter\n",
    "SQL = \"SELECT * FROM Staff WHERE first_name = %s\"\n",
    "data = (first_name, ) # pass parameter as a py single-element tuple\n",
    "\n",
    "curr = conn.cursor()\n",
    "curr.execute(SQL, data ) \n",
    "\n",
    "result = curr.fetchall()  #experiment: fetchone()\n",
    "for record in result:\n",
    "    print(record)\n",
    "    \n",
    "curr.close()\n",
    "conn.close() # don't forget to close\n",
    "\n",
    "## ABOVE\n",
    "## curr.execute( SQL, data )\n",
    "## data needs to be a Python sequence\n",
    "## A Tuple is a sequence but to make a single-element tuple\n",
    "## need: ( val, ) ...i.e. trailing comma"
   ]
  },
  {
   "cell_type": "code",
   "execution_count": null,
   "metadata": {},
   "outputs": [],
   "source": [
    "## At this point: revert to psql (for example)\n",
    "## and Grant update priviliges on the Staff table for the testuser\n",
    "## THEN follow below..."
   ]
  },
  {
   "cell_type": "code",
   "execution_count": null,
   "metadata": {},
   "outputs": [],
   "source": [
    "## The COMMIT concept\n",
    "## Attempting an UPDATE after \n",
    "## GRANTing UPDATE priviliges...\n",
    "\n",
    "import psycopg2\n",
    "conn = psycopg2.connect(dbname=\"dvdrental\", user=\"testuser\", password=\"testuser123\")\n",
    "\n",
    "SQL_UPDATE = \"UPDATE staff SET first_name = 'Michael' where first_name = 'Mike';\"\n",
    "print(SQL_UPDATE)  # print SQL string\n",
    "curr = conn.cursor()\n",
    "curr.execute(SQL_UPDATE)\n",
    "\n",
    "#THEN\n",
    "SQL_SELECT = \"SELECT * FROM staff;\"\n",
    "print(SQL_SELECT)  # print SQL string\n",
    "\n",
    "curr.execute(SQL_SELECT)\n",
    "result = curr.fetchall()  #experiment: fetchone()\n",
    "for record in result:\n",
    "    print(record)\n",
    "    \n",
    "curr.close()\n",
    "conn.close() # don't forget to close"
   ]
  },
  {
   "cell_type": "code",
   "execution_count": null,
   "metadata": {},
   "outputs": [],
   "source": [
    "## but now try \n",
    "## psql:\n",
    "## SELECT * FROM staff;"
   ]
  },
  {
   "cell_type": "code",
   "execution_count": null,
   "metadata": {},
   "outputs": [],
   "source": [
    "## See a new connection \n",
    "## through python\n",
    "## No change to the DB\n",
    "import psycopg2\n",
    "conn = psycopg2.connect(dbname=\"dvdrental\", user=\"testuser\", password=\"testuser123\")\n",
    "\n",
    "SQL_SELECT = \"SELECT * FROM staff;\"\n",
    "print(SQL_SELECT)  # print SQL string\n",
    "\n",
    "curr = conn.cursor()\n",
    "curr.execute(SQL_SELECT)\n",
    "result = curr.fetchall()  #experiment: fetchone()\n",
    "for record in result:\n",
    "    print(record)\n",
    "    \n",
    "curr.close()\n",
    "conn.close() # don't forget to close"
   ]
  },
  {
   "cell_type": "code",
   "execution_count": null,
   "metadata": {},
   "outputs": [],
   "source": [
    "## REPEATING ABOVE NOW\n",
    "## ONLY with conn.commit();"
   ]
  },
  {
   "cell_type": "code",
   "execution_count": null,
   "metadata": {},
   "outputs": [],
   "source": [
    "import psycopg2\n",
    "conn = psycopg2.connect(dbname=\"dvdrental\", user=\"testuser\", password=\"testuser123\")\n",
    "\n",
    "SQL_UPDATE = \"UPDATE staff SET first_name = 'Michael' where first_name = 'Mike';\"\n",
    "print(SQL_UPDATE)  # print SQL string\n",
    "curr = conn.cursor()\n",
    "curr.execute(SQL_UPDATE)\n",
    "conn.commit()               ##ADDED conn.commit()\n",
    "\n",
    "\n",
    "#THEN\n",
    "SQL_SELECT = \"SELECT * FROM staff;\"\n",
    "print(SQL_SELECT)  # print SQL string\n",
    "\n",
    "curr.execute(SQL_SELECT)\n",
    "result = curr.fetchall()  #experiment: fetchone()\n",
    "for record in result:\n",
    "    print(record)\n",
    "    \n",
    "curr.close()\n",
    "conn.close() # don't forget to close"
   ]
  },
  {
   "cell_type": "code",
   "execution_count": null,
   "metadata": {},
   "outputs": [],
   "source": [
    "## SEE\n",
    "## psql:\n",
    "## SELECT * FROM staff;\n",
    "## DB CHANGED after 'conn.commit()'"
   ]
  },
  {
   "cell_type": "code",
   "execution_count": null,
   "metadata": {},
   "outputs": [],
   "source": [
    "## Auto-COMMIT\n",
    "## using the python 'with' syntax\n",
    "## psycopg2: Connection string\n",
    "## and \n",
    "## WITH SYNTAX TO AUTO COMMIT?\n",
    "## https://www.psycopg.org/docs/usage.html#with-statement\n",
    "\n",
    "## RUN a SELECT * first to see first_name currently 'Micael'\n",
    "import psycopg2\n",
    "connection_string = \"dbname=dvdrental user=testuser password=testuser123\"\n",
    "\n",
    "SQL_UPDATE = \"UPDATE staff SET first_name = 'Mike' where first_name = 'Michael';\" \n",
    "print(SQL_UPDATE)  # print SQL string\n",
    "\n",
    "with psycopg2.connect(connection_string) as conn:\n",
    "    curr = conn.cursor()\n",
    "    curr.execute(SQL_UPDATE)  #auto-commit()\n",
    "\n",
    "curr.close()\n",
    "conn.close()"
   ]
  },
  {
   "cell_type": "code",
   "execution_count": null,
   "metadata": {},
   "outputs": [],
   "source": [
    "# https://www.psycopg.org/docs/usage.html#with-statement\n",
    "import psycopg2\n",
    "connection_string = \"dbname=dvdrental user=testuser password=testuser123\"\n",
    "conn = psycopg2.connect(connection_string)\n",
    "\n",
    "with conn:  #will auto-commit the conn\n",
    "    with conn.cursor() as curr: #will auto-close the cursor\n",
    "        curr.execute(\"SELECT * FROM staff\")\n",
    "\n",
    "        for record in curr.fetchall():\n",
    "            print(record)\n",
    "\n",
    "conn.close()"
   ]
  }
 ],
 "metadata": {
  "kernelspec": {
   "display_name": ".venv",
   "language": "python",
   "name": "python3"
  },
  "language_info": {
   "codemirror_mode": {
    "name": "ipython",
    "version": 3
   },
   "file_extension": ".py",
   "mimetype": "text/x-python",
   "name": "python",
   "nbconvert_exporter": "python",
   "pygments_lexer": "ipython3",
   "version": "3.11.4"
  }
 },
 "nbformat": 4,
 "nbformat_minor": 2
}
